{
 "cells": [
  {
   "cell_type": "code",
   "execution_count": 34,
   "metadata": {},
   "outputs": [],
   "source": [
    "string "
   ]
  },
  {
   "cell_type": "code",
   "execution_count": 4,
   "metadata": {},
   "outputs": [
    {
     "data": {
      "text/plain": [
       "'Thank you for keeping me updated on this issue. Im happy to hear that the issue got resolved after all and you can now use the app in its full functionality again. Also many thanks for your suggestions. We hope to improve this feature in the future. In case you experience any further problems with the app, please dont hesitate to contact me again.'"
      ]
     },
     "execution_count": 4,
     "metadata": {},
     "output_type": "execute_result"
    }
   ],
   "source": [
    "string"
   ]
  },
  {
   "cell_type": "code",
   "execution_count": 5,
   "metadata": {},
   "outputs": [],
   "source": [
    "from nltk.tokenize import sent_tokenize"
   ]
  },
  {
   "cell_type": "code",
   "execution_count": 6,
   "metadata": {},
   "outputs": [],
   "source": [
    "sent_tokenize_list = sent_tokenize(string)"
   ]
  },
  {
   "cell_type": "code",
   "execution_count": 7,
   "metadata": {},
   "outputs": [
    {
     "data": {
      "text/plain": [
       "['Thank you for keeping me updated on this issue.',\n",
       " 'Im happy to hear that the issue got resolved after all and you can now use the app in its full functionality again.',\n",
       " 'Also many thanks for your suggestions.',\n",
       " 'We hope to improve this feature in the future.',\n",
       " 'In case you experience any further problems with the app, please dont hesitate to contact me again.']"
      ]
     },
     "execution_count": 7,
     "metadata": {},
     "output_type": "execute_result"
    }
   ],
   "source": [
    "sent_tokenize_list"
   ]
  },
  {
   "cell_type": "code",
   "execution_count": 8,
   "metadata": {},
   "outputs": [],
   "source": [
    "x_train = []\n",
    "from bert_serving.client import BertClient\n",
    "bc = BertClient()\n",
    "x_train = bc.encode(sent_tokenize_list)"
   ]
  },
  {
   "cell_type": "code",
   "execution_count": 15,
   "metadata": {},
   "outputs": [
    {
     "data": {
      "text/plain": [
       "array([[ 0.17212725, -0.55305   , -0.0080953 , ...,  0.01684039,\n",
       "         0.16919781,  0.00715636],\n",
       "       [-0.14046703, -0.4258619 ,  0.38319218, ..., -0.29145107,\n",
       "         0.26678914,  0.03545584],\n",
       "       [ 0.1501224 , -0.19818354,  0.5138757 , ..., -0.22904073,\n",
       "         0.42997414,  0.07207277],\n",
       "       [ 0.29427335, -0.5372674 ,  0.31264016, ..., -0.32686254,\n",
       "         0.1929416 , -0.2515713 ],\n",
       "       [ 0.04119435, -0.24167605,  0.61322767, ..., -0.5201003 ,\n",
       "        -0.10854047, -0.51346743]], dtype=float32)"
      ]
     },
     "execution_count": 15,
     "metadata": {},
     "output_type": "execute_result"
    }
   ],
   "source": [
    "x_train"
   ]
  },
  {
   "cell_type": "code",
   "execution_count": 10,
   "metadata": {},
   "outputs": [
    {
     "data": {
      "text/plain": [
       "(5, 768)"
      ]
     },
     "execution_count": 10,
     "metadata": {},
     "output_type": "execute_result"
    }
   ],
   "source": [
    "x_train.shape"
   ]
  },
  {
   "cell_type": "code",
   "execution_count": 19,
   "metadata": {},
   "outputs": [
    {
     "name": "stdout",
     "output_type": "stream",
     "text": [
      "3\n"
     ]
    }
   ],
   "source": [
    "import numpy as np\n",
    "from sklearn.cluster import KMeans\n",
    "\n",
    "n_clusters = np.ceil(len(x_train)**0.5)\n",
    "print(int(n_clusters))\n",
    "kmeans = KMeans(n_clusters=int(n_clusters))"
   ]
  },
  {
   "cell_type": "code",
   "execution_count": 20,
   "metadata": {},
   "outputs": [],
   "source": [
    "kmeans = kmeans.fit(x_train)"
   ]
  },
  {
   "cell_type": "code",
   "execution_count": 33,
   "metadata": {},
   "outputs": [
    {
     "data": {
      "text/plain": [
       "['Im happy to hear that the issue got resolved after all and you can now use the app in its full functionality again.',\n",
       " 'Thank you for keeping me updated on this issue.',\n",
       " 'We hope to improve this feature in the future.']"
      ]
     },
     "execution_count": 33,
     "metadata": {},
     "output_type": "execute_result"
    }
   ],
   "source": [
    "from sklearn.metrics import pairwise_distances_argmin_min\n",
    "avg = []\n",
    "closest = []\n",
    "for j in range(int(n_clusters)):\n",
    "    idx = np.where(kmeans.labels_ == j)[0]\n",
    "    avg.append(np.mean(idx))\n",
    "closest, _ = pairwise_distances_argmin_min(kmeans.cluster_centers_, x_train)\n",
    "ordering = sorted(range(int(n_clusters)), key=lambda k: avg[k])\n",
    "[sent_tokenize_list[closest[idx]] for idx in ordering]"
   ]
  },
  {
   "cell_type": "code",
   "execution_count": null,
   "metadata": {},
   "outputs": [],
   "source": []
  }
 ],
 "metadata": {
  "kernelspec": {
   "display_name": "Python 3",
   "language": "python",
   "name": "python3"
  },
  "language_info": {
   "codemirror_mode": {
    "name": "ipython",
    "version": 3
   },
   "file_extension": ".py",
   "mimetype": "text/x-python",
   "name": "python",
   "nbconvert_exporter": "python",
   "pygments_lexer": "ipython3",
   "version": "3.6.1"
  }
 },
 "nbformat": 4,
 "nbformat_minor": 2
}
